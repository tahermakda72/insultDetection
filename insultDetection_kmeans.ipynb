{
 "cells": [
  {
   "cell_type": "code",
   "execution_count": 172,
   "metadata": {
    "colab": {},
    "colab_type": "code",
    "id": "wA7EVsErkqLa"
   },
   "outputs": [],
   "source": [
    "from sklearn.linear_model import LogisticRegression\n",
    "from sklearn.neighbors import KNeighborsClassifier\n",
    "from sklearn.svm import SVC, LinearSVC, NuSVC\n",
    "from sklearn.tree import DecisionTreeClassifier\n",
    "from sklearn.ensemble import RandomForestClassifier, AdaBoostClassifier, GradientBoostingClassifier\n",
    "from sklearn.naive_bayes import GaussianNB\n",
    "from nltk.tokenize import TweetTokenizer\n",
    "import pandas as pd\n",
    "import numpy as np\n",
    "from scipy.spatial import distance\n",
    "from sklearn.metrics import roc_auc_score\n",
    "from sklearn import metrics\n",
    "from sklearn.feature_extraction.text import CountVectorizer, TfidfVectorizer\n",
    "from sklearn.model_selection import train_test_split\n",
    "from sklearn.metrics import accuracy_score, f1_score, precision_score, recall_score, classification_report, confusion_matrix,auc"
   ]
  },
  {
   "cell_type": "code",
   "execution_count": 173,
   "metadata": {
    "colab": {},
    "colab_type": "code",
    "id": "oG4133qNkqLe"
   },
   "outputs": [],
   "source": [
    "Classifiers = [\n",
    "    LogisticRegression(),\n",
    "    KNeighborsClassifier(3),\n",
    "    SVC(kernel ='linear'),\n",
    "    DecisionTreeClassifier(),\n",
    "    RandomForestClassifier(n_estimators=200),\n",
    "    AdaBoostClassifier(),\n",
    "    GaussianNB()]"
   ]
  },
  {
   "cell_type": "code",
   "execution_count": 174,
   "metadata": {
    "colab": {},
    "colab_type": "code",
    "id": "D-60I7tPkqLh"
   },
   "outputs": [],
   "source": [
    "data2=pd.read_csv(\"test_with_solutions.csv\")\n",
    "data1=pd.read_csv(\"train.csv\") #currently in use\n",
    "#data3=pd.read_csv(\"agr_en_train.csv\")\n",
    "#data4=pd.read_csv(\"agr_en_tw_gold.csv\")"
   ]
  },
  {
   "cell_type": "code",
   "execution_count": 175,
   "metadata": {
    "colab": {},
    "colab_type": "code",
    "id": "UWhCD8CxkqLk"
   },
   "outputs": [],
   "source": [
    "data1.columns = ['Insult','Date','Comment']\n",
    "df1=pd.DataFrame([data1['Comment'],data1['Insult']]).T\n",
    "data2.columns = ['Insult','Date','Comment', 'Usage']\n",
    "df2=pd.DataFrame([data2['Comment'],data2['Insult']]).T"
   ]
  },
  {
   "cell_type": "code",
   "execution_count": 176,
   "metadata": {},
   "outputs": [
    {
     "data": {
      "text/plain": [
       "(6594, 1)"
      ]
     },
     "execution_count": 176,
     "metadata": {},
     "output_type": "execute_result"
    }
   ],
   "source": [
    "frames=[df1['Comment'],df2['Comment']]\n",
    "result=pd.DataFrame(pd.concat(frames))\n",
    "result.shape"
   ]
  },
  {
   "cell_type": "code",
   "execution_count": 177,
   "metadata": {
    "colab": {},
    "colab_type": "code",
    "id": "lQ7Rzl-vkqLp"
   },
   "outputs": [
    {
     "data": {
      "text/plain": [
       "(6594, 22740)"
      ]
     },
     "execution_count": 177,
     "metadata": {},
     "output_type": "execute_result"
    }
   ],
   "source": [
    "feature_extraction = TfidfVectorizer()\n",
    "data = feature_extraction.fit_transform(result[\"Comment\"])\n",
    "data.shape"
   ]
  },
  {
   "cell_type": "code",
   "execution_count": 178,
   "metadata": {},
   "outputs": [
    {
     "data": {
      "text/plain": [
       "(3947, 22740)"
      ]
     },
     "execution_count": 178,
     "metadata": {},
     "output_type": "execute_result"
    }
   ],
   "source": [
    "X_train=data[0:3947,:]\n",
    "X_test=data[3947:,:]\n",
    "#df1['Insult']=df1['Insult'].astype(int)\n",
    "#df2['Insult']=df2['Insult'].astype(int)\n",
    "#y_train['Insult']=df1['Insult']\n",
    "#y_test['Insult']=df2['Insult']\n",
    "X_test.shape\n",
    "X_train.shape"
   ]
  },
  {
   "cell_type": "code",
   "execution_count": 179,
   "metadata": {},
   "outputs": [
    {
     "name": "stdout",
     "output_type": "stream",
     "text": [
      "  (0, 22632)\t0.1799461521484288\n",
      "  (0, 8803)\t0.6425490633022721\n",
      "  (0, 22644)\t0.26847292798247196\n",
      "  (0, 4814)\t0.6947462634061918\n"
     ]
    }
   ],
   "source": [
    "print(X_train[0])"
   ]
  },
  {
   "cell_type": "code",
   "execution_count": 180,
   "metadata": {},
   "outputs": [
    {
     "data": {
      "text/plain": [
       "693"
      ]
     },
     "execution_count": 180,
     "metadata": {},
     "output_type": "execute_result"
    }
   ],
   "source": [
    "X_train.shape\n",
    "count=0\n",
    "for a in df2['Insult']:\n",
    "    if a==1:\n",
    "        count=count+1\n",
    "count"
   ]
  },
  {
   "cell_type": "code",
   "execution_count": 181,
   "metadata": {},
   "outputs": [],
   "source": [
    "#y_test['Insult']=df2['Insult']\n",
    "y_train=df1['Insult']\n",
    "y_train=pd.DataFrame(y_train)\n",
    "y_test=df2['Insult']\n",
    "y_test=pd.DataFrame(y_test)\n",
    "y_train.shape\n",
    "y_train=y_train.astype(int)\n",
    "y_test=y_test.astype(int)\n",
    "#df2['Insult']=df2['Insult'].astype(int)"
   ]
  },
  {
   "cell_type": "code",
   "execution_count": 182,
   "metadata": {},
   "outputs": [
    {
     "data": {
      "text/plain": [
       "(3947, 1)"
      ]
     },
     "execution_count": 182,
     "metadata": {},
     "output_type": "execute_result"
    }
   ],
   "source": [
    "y_train.shape"
   ]
  },
  {
   "cell_type": "code",
   "execution_count": 183,
   "metadata": {},
   "outputs": [
    {
     "name": "stdout",
     "output_type": "stream",
     "text": [
      "(251, 2)\n"
     ]
    }
   ],
   "source": [
    "\n",
    "data3=pd.read_csv(\"kmeans_data.csv\")\n",
    "X=pd.DataFrame([data3['X1'],data3['X2']]).T\n",
    "X=data3.values\n",
    "#print(X_train)\n",
    "X_train=X[:251,0:2]\n",
    "Y_train_sol=X[:251,2:3]\n",
    "\n",
    "X_test=X[251:299,0:2]\n",
    "Y_test_sol=X[251:299,2:3]\n",
    "#print(Y_test_sol)\n",
    "print(X_train.shape)\n"
   ]
  },
  {
   "cell_type": "code",
   "execution_count": 184,
   "metadata": {},
   "outputs": [],
   "source": [
    "class K_Means:\n",
    "    def __init__(self, k=2, tol=0.001, max_iter=10):\n",
    "        self.k = k\n",
    "        self.tol = tol\n",
    "        self.max_iter = max_iter\n",
    "\n",
    "    def fit(self,data):\n",
    "\n",
    "        self.centroids = {}\n",
    "\n",
    "        for i in range(self.k):\n",
    "            self.centroids[i] = data[1:2]\n",
    "            \n",
    "        for i in range(self.max_iter):\n",
    "            self.classifications = {}\n",
    "\n",
    "            for i in range(self.k):\n",
    "                self.classifications[i] = []\n",
    "            \n",
    "            for featureset in data:\n",
    "                distances = [np.linalg.norm(featureset-self.centroids[centroid]) for centroid in self.centroids]\n",
    "                #distances = distance.euclidean(featureset,self.centroids[0]) \n",
    "                classification = distances.index(min(distances))\n",
    "                self.classifications[classification].append(featureset)\n",
    "\n",
    "            prev_centroids = dict(self.centroids)\n",
    "\n",
    "            for classification in self.classifications:\n",
    "                self.centroids[classification] = np.average(self.classifications[classification],axis=0)\n",
    "\n",
    "            optimized = True\n",
    "\n",
    "            for c in self.centroids:\n",
    "                original_centroid = prev_centroids[c]\n",
    "                current_centroid = self.centroids[c]\n",
    "                if np.sum((current_centroid-original_centroid)/original_centroid*100.0) > self.tol:\n",
    "                    print(np.sum((current_centroid-original_centroid)/original_centroid*100.0))\n",
    "                    optimized = False\n",
    "\n",
    "            if optimized:\n",
    "                break\n",
    "\n",
    "    def predict(self,data_test):\n",
    "        distances = [np.linalg.norm(data_test-self.centroids[centroid]) for centroid in self.centroids]\n",
    "        classification = distances.index(min(distances))\n",
    "        return classification\n",
    "\n",
    "\n"
   ]
  },
  {
   "cell_type": "code",
   "execution_count": 185,
   "metadata": {},
   "outputs": [
    {
     "name": "stdout",
     "output_type": "stream",
     "text": [
      "48\n"
     ]
    },
    {
     "name": "stderr",
     "output_type": "stream",
     "text": [
      "C:\\Users\\Taher_Makda\\Anaconda3\\lib\\site-packages\\numpy\\lib\\function_base.py:356: RuntimeWarning: Mean of empty slice.\n",
      "  avg = a.mean(axis)\n",
      "C:\\Users\\Taher_Makda\\Anaconda3\\lib\\site-packages\\numpy\\core\\_methods.py:85: RuntimeWarning: invalid value encountered in double_scalars\n",
      "  ret = ret.dtype.type(ret / rcount)\n"
     ]
    }
   ],
   "source": [
    "clf = K_Means()\n",
    "clf.fit(X_train)\n",
    "pred=[]\n",
    "for i in X_test:\n",
    "    pred.append(clf.predict(i))\n",
    "print(len(pred))"
   ]
  },
  {
   "cell_type": "code",
   "execution_count": 186,
   "metadata": {},
   "outputs": [
    {
     "name": "stdout",
     "output_type": "stream",
     "text": [
      "The AUC score is:\n"
     ]
    },
    {
     "data": {
      "text/plain": [
       "0.5"
      ]
     },
     "execution_count": 186,
     "metadata": {},
     "output_type": "execute_result"
    }
   ],
   "source": [
    "print(\"The AUC score is:\")\n",
    "roc_auc_score(Y_test_sol, pred)\n",
    "#metrics.roc_curve(y_test, pred)\n",
    "# fpr, tpr, thresholds = metrics.roc_curve(y_test,pred,pos_label=2)\n",
    "# tpr.shape\n",
    "# auc = metrics.auc(fpr,tpr)\n",
    "# #print('Auc of '+classifier.__class__.__name__+'is '+str(auc))\n",
    "# auc"
   ]
  },
  {
   "cell_type": "code",
   "execution_count": null,
   "metadata": {},
   "outputs": [],
   "source": []
  },
  {
   "cell_type": "code",
   "execution_count": null,
   "metadata": {},
   "outputs": [],
   "source": []
  }
 ],
 "metadata": {
  "accelerator": "GPU",
  "colab": {
   "collapsed_sections": [],
   "name": "gen_aggression_detection.ipynb",
   "provenance": [],
   "version": "0.3.2"
  },
  "kernelspec": {
   "display_name": "Python 3",
   "language": "python",
   "name": "python3"
  }
 },
 "nbformat": 4,
 "nbformat_minor": 1
}
